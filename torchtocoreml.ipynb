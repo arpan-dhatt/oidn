{
 "cells": [
  {
   "cell_type": "code",
   "execution_count": 13,
   "id": "abb87f08-5476-4f28-8b27-0f71d7d66fba",
   "metadata": {},
   "outputs": [],
   "source": [
    "import torch\n",
    "import torch.nn as nn\n",
    "import torch.nn.functional as F\n",
    "import coremltools as ct"
   ]
  },
  {
   "cell_type": "code",
   "execution_count": 23,
   "id": "206da75d-e1d8-4add-9e31-beee799f8b9d",
   "metadata": {},
   "outputs": [],
   "source": [
    "## -----------------------------------------------------------------------------\n",
    "## Network layers\n",
    "## -----------------------------------------------------------------------------\n",
    "\n",
    "# 3x3 convolution module\n",
    "def Conv(in_channels, out_channels):\n",
    "  return nn.Conv2d(in_channels, out_channels, 3, padding=1)\n",
    "\n",
    "# ReLU function\n",
    "def relu(x):\n",
    "  return F.relu(x, inplace=True)\n",
    "\n",
    "# 2x2 max pool function\n",
    "def pool(x):\n",
    "  return F.max_pool2d(x, 2, 2)\n",
    "\n",
    "# 2x2 nearest-neighbor upsample function\n",
    "def upsample(x):\n",
    "  return F.interpolate(x, scale_factor=2, mode='nearest')\n",
    "\n",
    "# Channel concatenation function\n",
    "def concat(a, b):\n",
    "  return torch.cat((a, b), 1)\n",
    "\n",
    "## -----------------------------------------------------------------------------\n",
    "## U-Net model\n",
    "## -----------------------------------------------------------------------------\n",
    "\n",
    "class UNet(nn.Module):\n",
    "  def __init__(self, in_channels=9, out_channels=3):\n",
    "    super(UNet, self).__init__()\n",
    "\n",
    "    # Number of channels per layer\n",
    "    ic   = in_channels\n",
    "    ec1  = 32\n",
    "    ec2  = 48\n",
    "    ec3  = 64\n",
    "    ec4  = 80\n",
    "    ec5  = 96\n",
    "    dc4  = 112\n",
    "    dc3  = 96\n",
    "    dc2  = 64\n",
    "    dc1a = 64\n",
    "    dc1b = 32\n",
    "    oc   = out_channels\n",
    "\n",
    "    # Convolutions\n",
    "    self.enc_conv0  = Conv(ic,      ec1)\n",
    "    self.enc_conv1  = Conv(ec1,     ec1)\n",
    "    self.enc_conv2  = Conv(ec1,     ec2)\n",
    "    self.enc_conv3  = Conv(ec2,     ec3)\n",
    "    self.enc_conv4  = Conv(ec3,     ec4)\n",
    "    self.enc_conv5a = Conv(ec4,     ec5)\n",
    "    self.enc_conv5b = Conv(ec5,     ec5)\n",
    "    self.dec_conv4a = Conv(ec5+ec3, dc4)\n",
    "    self.dec_conv4b = Conv(dc4,     dc4)\n",
    "    self.dec_conv3a = Conv(dc4+ec2, dc3)\n",
    "    self.dec_conv3b = Conv(dc3,     dc3)\n",
    "    self.dec_conv2a = Conv(dc3+ec1, dc2)\n",
    "    self.dec_conv2b = Conv(dc2,     dc2)\n",
    "    self.dec_conv1a = Conv(dc2+ic,  dc1a)\n",
    "    self.dec_conv1b = Conv(dc1a,    dc1b)\n",
    "    self.dec_conv0  = Conv(dc1b,    oc)\n",
    "\n",
    "    # Images must be padded to multiples of the alignment\n",
    "    self.alignment = 16\n",
    "\n",
    "  def forward(self, input):\n",
    "    # Encoder\n",
    "    # -------------------------------------------\n",
    "\n",
    "    x = relu(self.enc_conv0(input))  # enc_conv0\n",
    "\n",
    "    x = relu(self.enc_conv1(x))      # enc_conv1\n",
    "    x = pool1 = pool(x)              # pool1\n",
    "\n",
    "    x = relu(self.enc_conv2(x))      # enc_conv2\n",
    "    x = pool2 = pool(x)              # pool2\n",
    "\n",
    "    x = relu(self.enc_conv3(x))      # enc_conv3\n",
    "    x = pool3 = pool(x)              # pool3\n",
    "\n",
    "    x = relu(self.enc_conv4(x))      # enc_conv4\n",
    "    x = pool(x)                      # pool4\n",
    "\n",
    "    # Bottleneck\n",
    "    x = relu(self.enc_conv5a(x))     # enc_conv5a\n",
    "    x = relu(self.enc_conv5b(x))     # enc_conv5b\n",
    "\n",
    "    # Decoder\n",
    "    # -------------------------------------------\n",
    "\n",
    "    x = upsample(x)                  # upsample4\n",
    "    x = concat(x, pool3)             # concat4\n",
    "    x = relu(self.dec_conv4a(x))     # dec_conv4a\n",
    "    x = relu(self.dec_conv4b(x))     # dec_conv4b\n",
    "\n",
    "    x = upsample(x)                  # upsample3\n",
    "    x = concat(x, pool2)             # concat3\n",
    "    x = relu(self.dec_conv3a(x))     # dec_conv3a\n",
    "    x = relu(self.dec_conv3b(x))     # dec_conv3b\n",
    "\n",
    "    x = upsample(x)                  # upsample2\n",
    "    x = concat(x, pool1)             # concat2\n",
    "    x = relu(self.dec_conv2a(x))     # dec_conv2a\n",
    "    x = relu(self.dec_conv2b(x))     # dec_conv2b\n",
    "\n",
    "    x = upsample(x)                  # upsample1\n",
    "    x = concat(x, input)             # concat1\n",
    "    x = relu(self.dec_conv1a(x))     # dec_conv1a\n",
    "    x = relu(self.dec_conv1b(x))     # dec_conv1b\n",
    "\n",
    "    x = self.dec_conv0(x)            # dec_conv0\n",
    "\n",
    "    return x"
   ]
  },
  {
   "cell_type": "code",
   "execution_count": 24,
   "id": "f66a6153-5335-4e08-9958-077980760209",
   "metadata": {},
   "outputs": [],
   "source": [
    "net = UNet()"
   ]
  },
  {
   "cell_type": "code",
   "execution_count": 26,
   "id": "a581ec02-2b00-4a87-94ad-fac76ed2c9e5",
   "metadata": {},
   "outputs": [],
   "source": [
    "example_input = torch.rand(1, 9, 512, 512)\n",
    "traced_model = torch.jit.trace(net, example_input)\n",
    "out = traced_model(example_input)"
   ]
  },
  {
   "cell_type": "code",
   "execution_count": 29,
   "id": "c697aa52-9d20-48da-afd2-f6c1c681d7d4",
   "metadata": {},
   "outputs": [],
   "source": [
    "input_shape = ct.Shape(shape=(1, 9, ct.RangeDim(256,4096), ct.RangeDim(256,4096)))\n",
    "model_input = ct.TensorType(shape=input_shape)"
   ]
  },
  {
   "cell_type": "code",
   "execution_count": 30,
   "id": "c99948e0-9d5f-4762-bed7-45c4c4e3c953",
   "metadata": {},
   "outputs": [
    {
     "name": "stderr",
     "output_type": "stream",
     "text": [
      "Converting Frontend ==> MIL Ops: 100%|███▉| 246/247 [00:00<00:00, 4733.78 ops/s]\n",
      "Running MIL Common passes: 100%|█████████| 34/34 [00:00<00:00, 1019.51 passes/s]\n",
      "Running MIL Clean up passes: 100%|██████████| 9/9 [00:00<00:00, 414.27 passes/s]\n",
      "Translating MIL ==> NeuralNetwork Ops: 100%|█| 191/191 [00:00<00:00, 311.63 ops/\n"
     ]
    }
   ],
   "source": [
    "model = ct.convert(\n",
    "    traced_model,\n",
    "    inputs=[model_input]\n",
    " )"
   ]
  },
  {
   "cell_type": "code",
   "execution_count": 31,
   "id": "2c67bf5e-69bd-47eb-8dc4-7470c879f678",
   "metadata": {},
   "outputs": [],
   "source": [
    "model.save(\"unet.mlmodel\")"
   ]
  },
  {
   "cell_type": "code",
   "execution_count": 4,
   "id": "cd0f951d-c9c5-4080-8ff4-5f5237849746",
   "metadata": {},
   "outputs": [],
   "source": [
    "from coremltools.models.neural_network import flexible_shape_utils\n",
    "spec = ct.utils.load_spec('unet.mlmodel')"
   ]
  },
  {
   "cell_type": "code",
   "execution_count": 5,
   "id": "3e61a4b5-f5f2-41f3-863e-5a5d75e74ed1",
   "metadata": {},
   "outputs": [],
   "source": [
    "input_name = spec.description.input[0].name"
   ]
  },
  {
   "cell_type": "code",
   "execution_count": 8,
   "id": "f61042ec-ddc8-4a9f-a9ca-ad3118b6547c",
   "metadata": {},
   "outputs": [],
   "source": [
    "flexible_shape_utils.set_multiarray_ndshape_range(spec, \n",
    "                                 feature_name=input_name, \n",
    "                                 lower_bounds=[1,3,256,256], \n",
    "                                 upper_bounds=[1,3,-1,-1])"
   ]
  },
  {
   "cell_type": "code",
   "execution_count": 9,
   "id": "7d6c861a-ce66-4126-b175-556cdbaf88d1",
   "metadata": {},
   "outputs": [
    {
     "ename": "FileNotFoundError",
     "evalue": "[Errno 2] No such file or directory: 'varsize_unet.mlmodel'",
     "output_type": "error",
     "traceback": [
      "\u001b[0;31m---------------------------------------------------------------------------\u001b[0m",
      "\u001b[0;31mFileNotFoundError\u001b[0m                         Traceback (most recent call last)",
      "Input \u001b[0;32mIn [9]\u001b[0m, in \u001b[0;36m<cell line: 1>\u001b[0;34m()\u001b[0m\n\u001b[0;32m----> 1\u001b[0m model \u001b[38;5;241m=\u001b[39m \u001b[43mct\u001b[49m\u001b[38;5;241;43m.\u001b[39;49m\u001b[43mmodels\u001b[49m\u001b[38;5;241;43m.\u001b[39;49m\u001b[43mMLModel\u001b[49m\u001b[43m(\u001b[49m\u001b[38;5;124;43m\"\u001b[39;49m\u001b[38;5;124;43mvarsize_unet.mlmodel\u001b[39;49m\u001b[38;5;124;43m\"\u001b[39;49m\u001b[43m)\u001b[49m\n",
      "File \u001b[0;32m~/miniforge3/lib/python3.9/site-packages/coremltools/models/model.py:328\u001b[0m, in \u001b[0;36mMLModel.__init__\u001b[0;34m(self, model, useCPUOnly, is_temp_package, mil_program, skip_model_load, compute_units, weights_dir)\u001b[0m\n\u001b[1;32m    326\u001b[0m         \u001b[38;5;28mself\u001b[39m\u001b[38;5;241m.\u001b[39mis_temp_package \u001b[38;5;241m=\u001b[39m is_temp_package\n\u001b[1;32m    327\u001b[0m         \u001b[38;5;28mself\u001b[39m\u001b[38;5;241m.\u001b[39m_weights_dir \u001b[38;5;241m=\u001b[39m _try_get_weights_dir_path(model)\n\u001b[0;32m--> 328\u001b[0m     \u001b[38;5;28mself\u001b[39m\u001b[38;5;241m.\u001b[39m__proxy__, \u001b[38;5;28mself\u001b[39m\u001b[38;5;241m.\u001b[39m_spec, \u001b[38;5;28mself\u001b[39m\u001b[38;5;241m.\u001b[39m_framework_error \u001b[38;5;241m=\u001b[39m \u001b[43m_get_proxy_and_spec\u001b[49m\u001b[43m(\u001b[49m\n\u001b[1;32m    329\u001b[0m \u001b[43m        \u001b[49m\u001b[43mmodel\u001b[49m\u001b[43m,\u001b[49m\u001b[43m \u001b[49m\u001b[43mcompute_units\u001b[49m\u001b[43m,\u001b[49m\u001b[43m \u001b[49m\u001b[43mskip_model_load\u001b[49m\u001b[38;5;241;43m=\u001b[39;49m\u001b[43mskip_model_load\u001b[49m\u001b[43m,\u001b[49m\n\u001b[1;32m    330\u001b[0m \u001b[43m    \u001b[49m\u001b[43m)\u001b[49m\n\u001b[1;32m    331\u001b[0m \u001b[38;5;28;01melif\u001b[39;00m \u001b[38;5;28misinstance\u001b[39m(model, _Model_pb2\u001b[38;5;241m.\u001b[39mModel):\n\u001b[1;32m    332\u001b[0m     \u001b[38;5;28;01mif\u001b[39;00m model\u001b[38;5;241m.\u001b[39mWhichOneof(\u001b[38;5;124m'\u001b[39m\u001b[38;5;124mType\u001b[39m\u001b[38;5;124m'\u001b[39m) \u001b[38;5;241m==\u001b[39m \u001b[38;5;124m\"\u001b[39m\u001b[38;5;124mmlProgram\u001b[39m\u001b[38;5;124m\"\u001b[39m:\n",
      "File \u001b[0;32m~/miniforge3/lib/python3.9/site-packages/coremltools/models/model.py:123\u001b[0m, in \u001b[0;36m_get_proxy_and_spec\u001b[0;34m(filename, compute_units, skip_model_load)\u001b[0m\n\u001b[1;32m    120\u001b[0m     _MLModelProxy \u001b[38;5;241m=\u001b[39m \u001b[38;5;28;01mNone\u001b[39;00m\n\u001b[1;32m    122\u001b[0m filename \u001b[38;5;241m=\u001b[39m _os\u001b[38;5;241m.\u001b[39mpath\u001b[38;5;241m.\u001b[39mexpanduser(filename)\n\u001b[0;32m--> 123\u001b[0m specification \u001b[38;5;241m=\u001b[39m \u001b[43m_load_spec\u001b[49m\u001b[43m(\u001b[49m\u001b[43mfilename\u001b[49m\u001b[43m)\u001b[49m\n\u001b[1;32m    125\u001b[0m \u001b[38;5;28;01mif\u001b[39;00m _MLModelProxy \u001b[38;5;129;01mand\u001b[39;00m \u001b[38;5;129;01mnot\u001b[39;00m skip_model_load:\n\u001b[1;32m    126\u001b[0m \n\u001b[1;32m    127\u001b[0m     \u001b[38;5;66;03m# check if the version is supported\u001b[39;00m\n\u001b[1;32m    128\u001b[0m     engine_version \u001b[38;5;241m=\u001b[39m _MLModelProxy\u001b[38;5;241m.\u001b[39mmaximum_supported_specification_version()\n",
      "File \u001b[0;32m~/miniforge3/lib/python3.9/site-packages/coremltools/models/utils.py:220\u001b[0m, in \u001b[0;36mload_spec\u001b[0;34m(filename)\u001b[0m\n\u001b[1;32m    217\u001b[0m \u001b[38;5;28;01mif\u001b[39;00m _ModelPackage\u001b[38;5;241m.\u001b[39misValid(filename):\n\u001b[1;32m    218\u001b[0m     specfile \u001b[38;5;241m=\u001b[39m _ModelPackage(filename)\u001b[38;5;241m.\u001b[39mgetRootModel()\u001b[38;5;241m.\u001b[39mpath()\n\u001b[0;32m--> 220\u001b[0m \u001b[38;5;28;01mwith\u001b[39;00m \u001b[38;5;28;43mopen\u001b[39;49m\u001b[43m(\u001b[49m\u001b[43mspecfile\u001b[49m\u001b[43m,\u001b[49m\u001b[43m \u001b[49m\u001b[38;5;124;43m\"\u001b[39;49m\u001b[38;5;124;43mrb\u001b[39;49m\u001b[38;5;124;43m\"\u001b[39;49m\u001b[43m)\u001b[49m \u001b[38;5;28;01mas\u001b[39;00m f:\n\u001b[1;32m    221\u001b[0m     contents \u001b[38;5;241m=\u001b[39m f\u001b[38;5;241m.\u001b[39mread()\n\u001b[1;32m    222\u001b[0m     spec\u001b[38;5;241m.\u001b[39mParseFromString(contents)\n",
      "\u001b[0;31mFileNotFoundError\u001b[0m: [Errno 2] No such file or directory: 'varsize_unet.mlmodel'"
     ]
    }
   ],
   "source": [
    "model = ct.models.MLModel(\"varsize_unet.mlmodel\")"
   ]
  },
  {
   "cell_type": "code",
   "execution_count": null,
   "id": "98e1129d-265d-4af4-b94a-6ae7716f427c",
   "metadata": {},
   "outputs": [],
   "source": []
  }
 ],
 "metadata": {
  "kernelspec": {
   "display_name": "Python 3 (ipykernel)",
   "language": "python",
   "name": "python3"
  },
  "language_info": {
   "codemirror_mode": {
    "name": "ipython",
    "version": 3
   },
   "file_extension": ".py",
   "mimetype": "text/x-python",
   "name": "python",
   "nbconvert_exporter": "python",
   "pygments_lexer": "ipython3",
   "version": "3.9.10"
  }
 },
 "nbformat": 4,
 "nbformat_minor": 5
}
